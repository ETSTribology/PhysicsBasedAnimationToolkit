{
 "cells": [
  {
   "cell_type": "code",
   "execution_count": 1,
   "metadata": {},
   "outputs": [],
   "source": [
    "from codegen import codegen\n",
    "from fem.lagrange import tetrahedron, hexahedron, triangle, quadrilateral, line\n",
    "import sympy as sp"
   ]
  },
  {
   "cell_type": "code",
   "execution_count": 20,
   "metadata": {},
   "outputs": [],
   "source": [
    "# Lagrange tetrahedron (i+j+k) <= p, where p is the polynomial order of the element's function space\n",
    "X, x, N, gradN = tetrahedron(p=2)\n",
    "# print(codegen([N, gradN.transpose()], lhs=[sp.MatrixSymbol(\"N\", *N.shape), sp.MatrixSymbol(\"GN\", *(gradN.transpose()).shape)]))"
   ]
  },
  {
   "cell_type": "code",
   "execution_count": 12,
   "metadata": {},
   "outputs": [],
   "source": [
    "# Lagrange hexahedron max(i,j,k) <= p, where p is the polynomial order of the any monomial in the element's function space\n",
    "X, x, N, gradN = hexahedron(p=2)\n",
    "# print(codegen([N, gradN.transpose()], lhs=[sp.MatrixSymbol(\"N\", *N.shape), sp.MatrixSymbol(\"GN\", *(gradN.transpose()).shape)]))"
   ]
  },
  {
   "cell_type": "code",
   "execution_count": 13,
   "metadata": {},
   "outputs": [],
   "source": [
    "# Lagrange triangle (i+j) <= p, where p is the polynomial order of the element's function space\n",
    "X, x, N, gradN = triangle(p=2)\n",
    "# print(codegen([N, gradN.transpose()], lhs=[sp.MatrixSymbol(\"N\", *N.shape), sp.MatrixSymbol(\"GN\", *(gradN.transpose()).shape)]))"
   ]
  },
  {
   "cell_type": "code",
   "execution_count": 14,
   "metadata": {},
   "outputs": [],
   "source": [
    "# Lagrange quadrilateral max(i,j) <= p, where p is the polynomial order of any monomial in the element's function space\n",
    "X, x, N, gradN = quadrilateral(p=2)\n",
    "# print(codegen([N, gradN.transpose()], lhs=[sp.MatrixSymbol(\"N\", *N.shape), sp.MatrixSymbol(\"GN\", *(gradN.transpose()).shape)]))"
   ]
  },
  {
   "cell_type": "code",
   "execution_count": 15,
   "metadata": {},
   "outputs": [],
   "source": [
    "# Lagrange line segment i <= p, where p is the polynomial order of the element's function space\n",
    "X, x, N, gradN = line(p=2)\n",
    "# print(codegen([N, gradN.transpose()], lhs=[sp.MatrixSymbol(\"N\", *N.shape), sp.MatrixSymbol(\"GN\", *(gradN.transpose()).shape)]))"
   ]
  }
 ],
 "metadata": {
  "kernelspec": {
   "display_name": "default",
   "language": "python",
   "name": "python3"
  },
  "language_info": {
   "codemirror_mode": {
    "name": "ipython",
    "version": 3
   },
   "file_extension": ".py",
   "mimetype": "text/x-python",
   "name": "python",
   "nbconvert_exporter": "python",
   "pygments_lexer": "ipython3",
   "version": "3.10.0"
  }
 },
 "nbformat": 4,
 "nbformat_minor": 2
}
